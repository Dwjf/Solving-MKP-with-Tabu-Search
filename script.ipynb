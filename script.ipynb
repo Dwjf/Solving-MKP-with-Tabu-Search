{
  "nbformat": 4,
  "nbformat_minor": 0,
  "metadata": {
    "colab": {
      "name": "script.ipynb",
      "provenance": [],
      "collapsed_sections": [],
      "include_colab_link": true
    },
    "kernelspec": {
      "name": "python3",
      "display_name": "Python 3"
    }
  },
  "cells": [
    {
      "cell_type": "markdown",
      "metadata": {
        "id": "view-in-github",
        "colab_type": "text"
      },
      "source": [
        "<a href=\"https://colab.research.google.com/github/Dwjf/Solving-MKP-with-Tabu-Search/blob/master/script.ipynb\" target=\"_parent\"><img src=\"https://colab.research.google.com/assets/colab-badge.svg\" alt=\"Open In Colab\"/></a>"
      ]
    },
    {
      "cell_type": "markdown",
      "metadata": {
        "id": "BH2MIrKgQ7xV",
        "colab_type": "text"
      },
      "source": [
        "## YSMRV12"
      ]
    },
    {
      "cell_type": "code",
      "metadata": {
        "id": "z0T5hMyWyXcp",
        "colab_type": "code",
        "colab": {}
      },
      "source": [
        "#YSMRV12\n",
        "import csv\n",
        "\n",
        "  \n",
        "with open('b4convert.csv') as csv_file:\n",
        "    csv_reader = csv.reader(csv_file, delimiter=',')\n",
        "    for row in csv_reader:\n",
        "\n",
        "        # Indicator for Miscellaneous Item Journal [YSMRV12]\n",
        "        E = row[0:9]\n",
        "        L = row[9:16]\n",
        "        S = row[16:23]\n",
        "\n",
        "\n",
        "        list2f = [E,L,S]\n",
        "        \n",
        "#########################       \n",
        "#WRITE CSV PROCESS\n",
        "#########################       \n",
        "        f = open('output.csv', 'a')# this opens the csv file for write process\n",
        "        with f:\n",
        "            writer = csv.writer(f,delimiter=\"|\")\n",
        "    \n",
        "            for row2 in list2f:\n",
        "                row3=row2[1:]\n",
        "                for value in row3:\n",
        "                    if value:\n",
        "                        writer.writerow(row2)\n",
        "                        break"
      ],
      "execution_count": null,
      "outputs": []
    },
    {
      "cell_type": "markdown",
      "metadata": {
        "id": "lY-yl8awQ5nv",
        "colab_type": "text"
      },
      "source": [
        "## YGASV12"
      ]
    },
    {
      "cell_type": "code",
      "metadata": {
        "id": "n0MwwUFwR7yj",
        "colab_type": "code",
        "colab": {}
      },
      "source": [
        "\n",
        "#YGASV12\n",
        "\"\"\"\n",
        "Created on Sat Jun  6 16:07:55 2020\n",
        "\n",
        "@author: daniel\n",
        "\"\"\"\n",
        "\n",
        "import csv\n",
        "\n",
        "with open('b4convert_YGASV12.csv') as csv_file:\n",
        "#with open('YITMV12_input_test.csv') as csv_file:\n",
        "    csv_reader = csv.reader(csv_file, delimiter=',')# CHECK DELIMITER\n",
        "    #line_count = 0\n",
        "    for row in csv_reader:\n",
        "        \n",
        "        # Indicator for Opening Trial Balance\n",
        "        G = row[0:9]\n",
        "        D = row[9:24]\n",
        "        A = row[24:33]\n",
        "        \n",
        "        list2f = [G,D,A]\n",
        "        \n",
        "\n",
        "#########################       \n",
        "#WRITE CSV PROCESS\n",
        "#########################       \n",
        "        f = open('output.csv', 'a')# this opens the csv file for write process\n",
        "        with f:\n",
        "            writer = csv.writer(f,delimiter=\",\")\n",
        "    \n",
        "            for row2 in list2f:\n",
        "                row3=row2[1:]\n",
        "                for value in row3:\n",
        "                    if value:\n",
        "                        writer.writerow(row2)\n",
        "                        break\n",
        "#        "
      ],
      "execution_count": null,
      "outputs": []
    },
    {
      "cell_type": "markdown",
      "metadata": {
        "id": "HKdr9GPEg8LV",
        "colab_type": "text"
      },
      "source": [
        "## YPOHV12"
      ]
    },
    {
      "cell_type": "code",
      "metadata": {
        "id": "UAUCOI6hhBC8",
        "colab_type": "code",
        "colab": {}
      },
      "source": [
        "\n",
        "# YPOHV12\n",
        "\"\"\"\n",
        "Created on Sat Jun  6 16:07:55 2020\n",
        "\n",
        "@author: daniel\n",
        "\"\"\"\n",
        "import csv\n",
        "\n",
        "import_path = \"/content/drive/My Drive/7. Go Live - opening bal/Imports/YPOHV12/double.csv\"\n",
        "output_path = \"/content/drive/My Drive/7. Go Live - opening bal/Imports/YPOHV12/output2.csv\"\n",
        "\n",
        "with open(import_path) as csv_file:\n",
        "#with open('YITMV12_input_test.csv') as csv_file:\n",
        "    csv_reader = csv.reader(csv_file, delimiter=',')# CHECK DELIMITER\n",
        "    #line_count = 0\n",
        "    for row in csv_reader:\n",
        "        \n",
        "        #PO Inport, [MECAS - YPOHV12]\n",
        "        E = row[0:7]\n",
        "        L = row[7:15]\n",
        "        LC = row[15:19]\n",
        "        \n",
        "        list2f = [E,L,LC]\n",
        "        \n",
        "\n",
        "#########################       \n",
        "#WRITE CSV PROCESS\n",
        "#########################       \n",
        "        f = open(output_path, 'a')# this opens the csv file for write process\n",
        "        with f:\n",
        "            writer = csv.writer(f,delimiter=\"|\")\n",
        "    \n",
        "            for row2 in list2f:\n",
        "\n",
        "\n",
        "# Selection criteria for PO. If column 3 of row has values then write value\n",
        "# Else skip row . This will skip E indicator lines, if we delete the PO number in\n",
        "# line level rows.         \n",
        "              if row2[2]:\n",
        "                writer.writerow(row2)\n"
      ],
      "execution_count": 7,
      "outputs": []
    },
    {
      "cell_type": "code",
      "metadata": {
        "id": "SpHGMHgYxcJq",
        "colab_type": "code",
        "colab": {
          "base_uri": "https://localhost:8080/",
          "height": 122
        },
        "outputId": "3ff0875b-8538-4fe1-8e1d-a178a0c19065"
      },
      "source": [
        "from google.colab import drive\n",
        "drive.mount('/content/drive')"
      ],
      "execution_count": 1,
      "outputs": [
        {
          "output_type": "stream",
          "text": [
            "Go to this URL in a browser: https://accounts.google.com/o/oauth2/auth?client_id=947318989803-6bn6qk8qdgf4n4g3pfee6491hc0brc4i.apps.googleusercontent.com&redirect_uri=urn%3aietf%3awg%3aoauth%3a2.0%3aoob&response_type=code&scope=email%20https%3a%2f%2fwww.googleapis.com%2fauth%2fdocs.test%20https%3a%2f%2fwww.googleapis.com%2fauth%2fdrive%20https%3a%2f%2fwww.googleapis.com%2fauth%2fdrive.photos.readonly%20https%3a%2f%2fwww.googleapis.com%2fauth%2fpeopleapi.readonly\n",
            "\n",
            "Enter your authorization code:\n",
            "··········\n",
            "Mounted at /content/drive\n"
          ],
          "name": "stdout"
        }
      ]
    },
    {
      "cell_type": "markdown",
      "metadata": {
        "id": "_IINm9EWwb9l",
        "colab_type": "text"
      },
      "source": [
        "## YSOHV12"
      ]
    },
    {
      "cell_type": "code",
      "metadata": {
        "id": "_8uHx5kMkzCc",
        "colab_type": "code",
        "colab": {}
      },
      "source": [
        "\"\"\"\n",
        "Created on Sat Jun  6 16:07:55 2020\n",
        "\n",
        "@author: daniel\n",
        "\"\"\"\n",
        "import csv\n",
        "\n",
        "\n",
        "import_path = \"/content/drive/My Drive/7. Go Live - opening bal/Imports/YSOHV12/input.csv\"\n",
        "output_path = \"/content/drive/My Drive/7. Go Live - opening bal/Imports/YSOHV12/output.csv\"\n",
        "\n",
        "\n",
        "with open(import_path) as csv_file:\n",
        "#with open('YITMV12_input_test.csv') as csv_file:\n",
        "    csv_reader = csv.reader(csv_file, delimiter=',')# CHECK DELIMITER\n",
        "    #line_count = 0\n",
        "    for row in csv_reader:\n",
        "        \n",
        "        #SO import YSOHV12 mapping\n",
        "        E = row[0:10]\n",
        "        L = row[10:14]\n",
        "        A = row[14:18]\n",
        "        list2f = [E,L,A]\n",
        "        \n",
        "\n",
        "#########################       \n",
        "#WRITE CSV PROCESS\n",
        "#########################       \n",
        "        f = open(output_path, 'a')# this opens the csv file for write process\n",
        "        with f:\n",
        "            writer = csv.writer(f,delimiter=\"|\")\n",
        "    \n",
        "            for row2 in list2f:\n",
        "\n",
        "              # Selection criteria for SO. If column 4 of row has values then write value\n",
        "# Else skip row . This will skip E indicator lines, if we delete the SO number in\n",
        "# line level rows (column 4).         \n",
        "              if row2[3]:\n",
        "                writer.writerow(row2)\n",
        "\n",
        "#        "
      ],
      "execution_count": 30,
      "outputs": []
    },
    {
      "cell_type": "code",
      "metadata": {
        "id": "Xw07B_mc-SBb",
        "colab_type": "code",
        "colab": {
          "base_uri": "https://localhost:8080/",
          "height": 34
        },
        "outputId": "04f120ad-c42d-46e5-a979-f6469299768b"
      },
      "source": [
        "%reset"
      ],
      "execution_count": 12,
      "outputs": [
        {
          "output_type": "stream",
          "text": [
            "Once deleted, variables cannot be recovered. Proceed (y/[n])? y\n"
          ],
          "name": "stdout"
        }
      ]
    },
    {
      "cell_type": "markdown",
      "metadata": {
        "id": "Eoh-HL4E4oUq",
        "colab_type": "text"
      },
      "source": [
        "## YFASV12"
      ]
    },
    {
      "cell_type": "code",
      "metadata": {
        "id": "pSJ_qvcx4qob",
        "colab_type": "code",
        "colab": {}
      },
      "source": [
        "\"\"\"\n",
        "Created on Sat Jun  6 16:07:55 2020\n",
        "\n",
        "@author: daniel\n",
        "\"\"\"\n",
        "import csv\n",
        "\n",
        "with open('csv_po_in.csv') as csv_file:\n",
        "#with open('YITMV12_input_test.csv') as csv_file:\n",
        "    csv_reader = csv.reader(csv_file, delimiter=',')# CHECK DELIMITER\n",
        "    #line_count = 0\n",
        "    for row in csv_reader:\n",
        "        \n",
        "        #SO import YFASV12 mapping\n",
        "        F = row[0:20]\n",
        "        D = row[20:30]\n",
        "        Y = row[31:38]\n",
        "\n",
        "        list2f = [F,D,Y]\n",
        "        \n",
        "\n",
        "#########################       \n",
        "#WRITE CSV PROCESS\n",
        "#########################       \n",
        "        f = open('output.csv', 'a')# this opens the csv file for write process\n",
        "        with f:\n",
        "            writer = csv.writer(f,delimiter=\"|\")\n",
        "    \n",
        "            for row2 in list2f:\n",
        "                row3=row2[1:]\n",
        "                for value in row3:\n",
        "                    if value:\n",
        "                        writer.writerow(row2)\n",
        "                        break\n",
        "#        "
      ],
      "execution_count": null,
      "outputs": []
    },
    {
      "cell_type": "markdown",
      "metadata": {
        "id": "j4ppMyAj7QrQ",
        "colab_type": "text"
      },
      "source": [
        "## YBICV12"
      ]
    },
    {
      "cell_type": "code",
      "metadata": {
        "id": "I3H-5YH07PrZ",
        "colab_type": "code",
        "colab": {}
      },
      "source": [
        "\"\"\"\n",
        "Created on Sat Jun  6 16:07:55 2020\n",
        "\n",
        "@author: daniel\n",
        "\"\"\"\n",
        "import csv\n",
        "\n",
        "with open('csv_po_in.csv') as csv_file:\n",
        "#with open('YITMV12_input_test.csv') as csv_file:\n",
        "    csv_reader = csv.reader(csv_file, delimiter=',')# CHECK DELIMITER\n",
        "    #line_count = 0\n",
        "    for row in csv_reader:\n",
        "        \n",
        "        #SO import YBICV12 mapping\n",
        "        F = row[0:20]\n",
        "        D = row[20:30]\n",
        "        Y = row[31:38]\n",
        "\n",
        "        list2f = [F,D,Y]\n",
        "        \n",
        "\n",
        "#########################       \n",
        "#WRITE CSV PROCESS\n",
        "#########################       \n",
        "        f = open('output.csv', 'a')# this opens the csv file for write process\n",
        "        with f:\n",
        "            writer = csv.writer(f,delimiter=\"|\")\n",
        "    \n",
        "            for row2 in list2f:\n",
        "                row3=row2[1:]\n",
        "                for value in row3:\n",
        "                    if value:\n",
        "                        writer.writerow(row2)\n",
        "                        break\n",
        "#        "
      ],
      "execution_count": null,
      "outputs": []
    },
    {
      "cell_type": "markdown",
      "metadata": {
        "id": "fW39o0XP7TkF",
        "colab_type": "text"
      },
      "source": [
        "## YBISV12"
      ]
    },
    {
      "cell_type": "code",
      "metadata": {
        "id": "CzrjzYTJ7WyR",
        "colab_type": "code",
        "colab": {}
      },
      "source": [
        "\"\"\"\n",
        "Created on Sat Jun  6 16:07:55 2020\n",
        "\n",
        "@author: daniel\n",
        "\"\"\"\n",
        "import csv\n",
        "\n",
        "with open('csv_po_in.csv') as csv_file:\n",
        "#with open('YITMV12_input_test.csv') as csv_file:\n",
        "    csv_reader = csv.reader(csv_file, delimiter=',')# CHECK DELIMITER\n",
        "    #line_count = 0\n",
        "    for row in csv_reader:\n",
        "        \n",
        "        # YBISV12 mapping\n",
        "        T = row[0:13]\n",
        "        L = row[13:23]\n",
        "        A = row[23:30]\n",
        "        E = row[30:36]\n",
        "\n",
        "        list2f = [T,L,A,E]\n",
        "        \n",
        "\n",
        "#########################       \n",
        "#WRITE CSV PROCESS\n",
        "#########################       \n",
        "        f = open('output.csv', 'a')# this opens the csv file for write process\n",
        "        with f:\n",
        "            writer = csv.writer(f,delimiter=\"|\")\n",
        "    \n",
        "            for row2 in list2f:\n",
        "                row3=row2[1:]\n",
        "                for value in row3:\n",
        "                    if value:\n",
        "                        writer.writerow(row2)\n",
        "                        break\n",
        "#        "
      ],
      "execution_count": null,
      "outputs": []
    }
  ]
}